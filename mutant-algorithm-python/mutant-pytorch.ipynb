{
  "nbformat": 4,
  "nbformat_minor": 0,
  "metadata": {
    "language_info": {
      "name": "python",
      "version": "3.8.2",
      "mimetype": "text/x-python",
      "codemirror_mode": {
        "name": "ipython",
        "version": 3
      },
      "pygments_lexer": "ipython3",
      "nbconvert_exporter": "python",
      "file_extension": ".py"
    },
    "orig_nbformat": 2,
    "kernelspec": {
      "name": "python37564bitdeeplearningv2pytorchpipenv228bb8fd2b7044fc95b1a54da7d30e8a",
      "display_name": "Python 3.7.5 64-bit ('deep-learning-v2-pytorch': pipenv)"
    },
    "nteract": {
      "version": "0.23.1"
    },
    "colab": {
      "name": "mutant.ipynb",
      "provenance": []
    }
  },
  "cells": [
    {
      "cell_type": "code",
      "metadata": {
        "execution": {
          "iopub.status.busy": "2020-04-29T18:31:38.265Z",
          "iopub.execute_input": "2020-04-29T18:31:38.269Z",
          "iopub.status.idle": "2020-04-29T18:31:38.348Z",
          "shell.execute_reply": "2020-04-29T18:31:38.546Z"
        },
        "id": "XcIpezixuR-b",
        "colab_type": "code",
        "colab": {}
      },
      "source": [
        "import torch\n",
        "import numpy as np\n",
        "import itertools as it\n",
        "import unittest"
      ],
      "execution_count": 0,
      "outputs": []
    },
    {
      "cell_type": "code",
      "metadata": {
        "id": "cQuQZ0soQD2k",
        "colab_type": "code",
        "colab": {}
      },
      "source": [
        "mutante1 = np.array(\n",
        "                [['A', 'T', 'G', 'C', 'G', 'A'], \n",
        "                 ['C', 'A', 'G', 'T', 'G', 'C'],\n",
        "                 ['T', 'T', 'A', 'T', 'G', 'T'], \n",
        "                 ['A', 'G', 'A', 'A', 'C', 'C'],\n",
        "                 ['C', 'C', 'C', 'C', 'T', 'A'],\n",
        "                 ['T', 'C', 'A', 'C', 'T', 'G']])"
      ],
      "execution_count": 0,
      "outputs": []
    },
    {
      "cell_type": "code",
      "metadata": {
        "execution": {
          "iopub.status.busy": "2020-04-29T18:31:38.355Z",
          "iopub.execute_input": "2020-04-29T18:31:38.360Z",
          "iopub.status.idle": "2020-04-29T18:31:38.367Z",
          "shell.execute_reply": "2020-04-29T18:31:38.550Z"
        },
        "id": "55NJP0ipuR-f",
        "colab_type": "code",
        "colab": {
          "base_uri": "https://localhost:8080/",
          "height": 187
        },
        "outputId": "e2a3d9c5-c44d-42d6-c7da-5affe38e7db1"
      },
      "source": [
        "N = 6\n",
        "mutante1 = np.array(\n",
        "                [['A', 'T', 'G', 'C', 'G', 'A'], \n",
        "                 ['C', 'A', 'G', 'T', 'G', 'C'],\n",
        "                 ['T', 'T', 'A', 'T', 'G', 'T'], \n",
        "                 ['A', 'G', 'A', 'A', 'C', 'C'],\n",
        "                 ['C', 'C', 'C', 'C', 'T', 'A'],\n",
        "                 ['T', 'C', 'A', 'C', 'T', 'G']])\n",
        "#dna1 = [\"ATGCGA\",\"CAGTGC\",\"TTATGT\",\"AGAAGG\",\"CCCCTA\",\"TCACTG\"]\n",
        "unique, indices, counts = np.unique(mutante1, return_inverse=True, return_counts=True, axis=None)\n",
        "print(f\"With numpy.unique\\n{mutante1}\\n{unique}{unique.shape}\\n{indices}{indices.shape}\\n{counts}{counts.shape}\")\n",
        "\n",
        "# mutante1 = torch.from_numpy(unique)\n",
        "# unique, indices, counts = torch.unique(mutante1, return_inverse=True, return_counts=True)\n",
        "# print(f\"With torch.unique:\\n{mutante1}\\n{unique}{unique.shape}\\n{indices}{indices.shape}\\n{counts}{counts.shape}\")\n"
      ],
      "execution_count": 3,
      "outputs": [
        {
          "output_type": "stream",
          "text": [
            "With numpy.unique\n",
            "[['A' 'T' 'G' 'C' 'G' 'A']\n",
            " ['C' 'A' 'G' 'T' 'G' 'C']\n",
            " ['T' 'T' 'A' 'T' 'G' 'T']\n",
            " ['A' 'G' 'A' 'A' 'C' 'C']\n",
            " ['C' 'C' 'C' 'C' 'T' 'A']\n",
            " ['T' 'C' 'A' 'C' 'T' 'G']]\n",
            "['A' 'C' 'G' 'T'](4,)\n",
            "[0 3 2 1 2 0 1 0 2 3 2 1 3 3 0 3 2 3 0 2 0 0 1 1 1 1 1 1 3 0 3 1 0 1 3 2](36,)\n",
            "[ 9 11  7  9](4,)\n"
          ],
          "name": "stdout"
        }
      ]
    },
    {
      "cell_type": "code",
      "metadata": {
        "id": "DIq1v5ax3ZZz",
        "colab_type": "code",
        "colab": {
          "base_uri": "https://localhost:8080/",
          "height": 51
        },
        "outputId": "3600bbb7-60a8-449a-cb92-9946f149dcc7"
      },
      "source": [
        "mutante1 = np.array(\n",
        "                [['A', 'T', 'G', 'C', 'G', 'A'], \n",
        "                 ['C', 'A', 'G', 'T', 'G', 'C'],\n",
        "                 ['T', 'T', 'A', 'T', 'G', 'T'], \n",
        "                 ['A', 'G', 'A', 'A', 'C', 'C'],\n",
        "                 ['C', 'C', 'C', 'C', 'T', 'A'],\n",
        "                 ['T', 'C', 'A', 'C', 'T', 'G']])\n",
        "unique = np.unique(mutante1)\n",
        "print(f\"{unique}\")\n",
        "np.isin(unique, ['A','C','G','T']).all()"
      ],
      "execution_count": 4,
      "outputs": [
        {
          "output_type": "stream",
          "text": [
            "['A' 'C' 'G' 'T']\n"
          ],
          "name": "stdout"
        },
        {
          "output_type": "execute_result",
          "data": {
            "text/plain": [
              "True"
            ]
          },
          "metadata": {
            "tags": []
          },
          "execution_count": 4
        }
      ]
    },
    {
      "cell_type": "code",
      "metadata": {
        "id": "78hwNYPB-b7c",
        "colab_type": "code",
        "colab": {
          "base_uri": "https://localhost:8080/",
          "height": 119
        },
        "outputId": "be53ace2-a81b-4d66-a2d0-a98f092d1931"
      },
      "source": [
        "dna2 = [\"ATGCGA\",\"CAGTGC\",\"TTATGT\",\"AGAACC\",\"CCCCTA\",\"TCACTG\"]\n",
        "mutante1_CC = np.array(\n",
        "                [['A', 'T', 'G', 'C', 'G', 'A'], \n",
        "                 ['C', 'A', 'G', 'T', 'G', 'C'],\n",
        "                 ['T', 'T', 'A', 'T', 'G', 'T'], \n",
        "                 ['A', 'G', 'A', 'A', 'C', 'C'],\n",
        "                 ['C', 'C', 'C', 'C', 'T', 'A'],\n",
        "                 ['T', 'C', 'A', 'C', 'T', 'G']])\n",
        "unique, indices, counts = np.unique(mutante1_CC, return_inverse=True, return_counts=True)\n",
        "mutante1_CC = indices.reshape(N,N)\n",
        "mutante1_CC = torch.as_tensor(mutante1_CC, device=torch.device('cpu'))\n",
        "print(mutante1_CC)"
      ],
      "execution_count": 5,
      "outputs": [
        {
          "output_type": "stream",
          "text": [
            "tensor([[0, 3, 2, 1, 2, 0],\n",
            "        [1, 0, 2, 3, 2, 1],\n",
            "        [3, 3, 0, 3, 2, 3],\n",
            "        [0, 2, 0, 0, 1, 1],\n",
            "        [1, 1, 1, 1, 3, 0],\n",
            "        [3, 1, 0, 1, 3, 2]])\n"
          ],
          "name": "stdout"
        }
      ]
    },
    {
      "cell_type": "markdown",
      "metadata": {
        "id": "GFOtzLXCNmrG",
        "colab_type": "text"
      },
      "source": [
        "**Below cell returns whether a row has a group of elements. We should filter if a group size is > 4**"
      ]
    },
    {
      "cell_type": "code",
      "metadata": {
        "id": "RI6QHtdmK02S",
        "colab_type": "code",
        "colab": {
          "base_uri": "https://localhost:8080/",
          "height": 187
        },
        "outputId": "1fafdfab-12f4-4c51-9472-0595eac34079"
      },
      "source": [
        "unique_consecutive, counts = torch.unique_consecutive(mutante1_CC, return_counts=True)\n",
        "print(f\"{mutante1_CC}\\n{unique_consecutive}{unique_consecutive.shape}\\n{counts}{counts.shape}\")\n",
        "#the previous line return 6 for CC in row3 + CCCCC in row 4 which is not OK. It don't consider initial tensor shape which is wrong.\n",
        "# and the dim parameter doesn't serve for that purpouse.\n"
      ],
      "execution_count": 6,
      "outputs": [
        {
          "output_type": "stream",
          "text": [
            "tensor([[0, 3, 2, 1, 2, 0],\n",
            "        [1, 0, 2, 3, 2, 1],\n",
            "        [3, 3, 0, 3, 2, 3],\n",
            "        [0, 2, 0, 0, 1, 1],\n",
            "        [1, 1, 1, 1, 3, 0],\n",
            "        [3, 1, 0, 1, 3, 2]])\n",
            "tensor([0, 3, 2, 1, 2, 0, 1, 0, 2, 3, 2, 1, 3, 0, 3, 2, 3, 0, 2, 0, 1, 3, 0, 3,\n",
            "        1, 0, 1, 3, 2])torch.Size([29])\n",
            "tensor([1, 1, 1, 1, 1, 1, 1, 1, 1, 1, 1, 1, 2, 1, 1, 1, 1, 1, 1, 2, 6, 1, 1, 1,\n",
            "        1, 1, 1, 1, 1])torch.Size([29])\n"
          ],
          "name": "stdout"
        }
      ]
    },
    {
      "cell_type": "code",
      "metadata": {
        "id": "vT9E3mz96Z2r",
        "colab_type": "code",
        "colab": {
          "base_uri": "https://localhost:8080/",
          "height": 289
        },
        "outputId": "ec6f0899-6a40-4a1a-e19d-9e77f1c31342"
      },
      "source": [
        "##### numpy unique\n",
        "import numpy as np\n",
        "mutante1 = np.array(\n",
        "                [['A', 'T', 'G', 'C', 'G', 'A'], \n",
        "                 ['C', 'A', 'G', 'T', 'G', 'C'],\n",
        "                 ['T', 'T', 'A', 'T', 'G', 'T'], \n",
        "                 ['A', 'G', 'A', 'A', 'G', 'G'],\n",
        "                 ['C', 'C', 'C', 'C', 'T', 'A'],\n",
        "                 ['T', 'C', 'A', 'C', 'T', 'G']])\n",
        "u, indices, counts = np.unique(mutante1, return_inverse=True, return_counts=True)\n",
        "print(f'unique: {u}, type:{type(u[0])}')\n",
        "print(f'indices: \\n{indices.reshape(6,6)}')\n",
        "print(f'counts: {counts}')\n",
        "print(f'data: \\n{u[indices].reshape(6,6)}')\n"
      ],
      "execution_count": 7,
      "outputs": [
        {
          "output_type": "stream",
          "text": [
            "unique: ['A' 'C' 'G' 'T'], type:<class 'numpy.str_'>\n",
            "indices: \n",
            "[[0 3 2 1 2 0]\n",
            " [1 0 2 3 2 1]\n",
            " [3 3 0 3 2 3]\n",
            " [0 2 0 0 2 2]\n",
            " [1 1 1 1 3 0]\n",
            " [3 1 0 1 3 2]]\n",
            "counts: [9 9 9 9]\n",
            "data: \n",
            "[['A' 'T' 'G' 'C' 'G' 'A']\n",
            " ['C' 'A' 'G' 'T' 'G' 'C']\n",
            " ['T' 'T' 'A' 'T' 'G' 'T']\n",
            " ['A' 'G' 'A' 'A' 'G' 'G']\n",
            " ['C' 'C' 'C' 'C' 'T' 'A']\n",
            " ['T' 'C' 'A' 'C' 'T' 'G']]\n"
          ],
          "name": "stdout"
        }
      ]
    },
    {
      "cell_type": "code",
      "metadata": {
        "id": "UBQiUspf8rER",
        "colab_type": "code",
        "colab": {}
      },
      "source": [
        "\n"
      ],
      "execution_count": 0,
      "outputs": []
    },
    {
      "cell_type": "code",
      "metadata": {
        "execution": {
          "iopub.status.busy": "2020-04-29T18:31:38.402Z",
          "iopub.execute_input": "2020-04-29T18:31:38.407Z",
          "iopub.status.idle": "2020-04-29T18:31:38.413Z",
          "shell.execute_reply": "2020-04-29T18:31:38.557Z"
        },
        "id": "CuTJudP_uR-m",
        "colab_type": "code",
        "colab": {}
      },
      "source": [
        "mutante1 = np.array(\n",
        "                [['A', 'T', 'G', 'C', 'G', 'A'], \n",
        "                 ['C', 'A', 'G', 'T', 'G', 'C'],\n",
        "                 ['T', 'T', 'A', 'T', 'G', 'T'], \n",
        "                 ['A', 'G', 'A', 'A', 'G', 'G'],\n",
        "                 ['C', 'C', 'C', 'C', 'T', 'A'],\n",
        "                 ['T', 'C', 'A', 'C', 'T', 'G']])"
      ],
      "execution_count": 0,
      "outputs": []
    },
    {
      "cell_type": "code",
      "metadata": {
        "execution": {
          "iopub.status.busy": "2020-04-29T18:31:38.421Z",
          "iopub.execute_input": "2020-04-29T18:31:38.426Z",
          "iopub.status.idle": "2020-04-29T18:31:38.434Z",
          "shell.execute_reply": "2020-04-29T18:31:38.559Z"
        },
        "id": "-OtVKImLuR-p",
        "colab_type": "code",
        "colab": {}
      },
      "source": [
        "mutante2 = np.array([['T', 'T', 'G', 'C', 'G', 'A'], \n",
        "                 ['C', 'A', 'G', 'T', 'G', 'C'],\n",
        "                 ['T', 'T', 'A', 'T', 'G', 'T'], \n",
        "                 ['A', 'G', 'A', 'A', 'G', 'G'],\n",
        "                 ['C', 'C', 'C', 'C', 'A', 'A'],\n",
        "                 ['T', 'C', 'A', 'C', 'T', 'G']])"
      ],
      "execution_count": 0,
      "outputs": []
    },
    {
      "cell_type": "code",
      "metadata": {
        "execution": {
          "iopub.status.busy": "2020-04-29T18:31:38.441Z",
          "iopub.execute_input": "2020-04-29T18:31:38.447Z",
          "iopub.status.idle": "2020-04-29T18:31:38.459Z",
          "shell.execute_reply": "2020-04-29T18:31:38.563Z"
        },
        "id": "i5u1HSVPuR-s",
        "colab_type": "code",
        "outputId": "13e19b01-881e-461e-b4fc-a65597f4c3d2",
        "colab": {
          "base_uri": "https://localhost:8080/",
          "height": 119
        }
      },
      "source": [
        "alpha_num = list('-')\n",
        "adn_base_test = ['*']\n",
        "mutante = np.random.choice(alpha_num, size=[N, N])\n",
        "np.fill_diagonal(mutante, ['*', '*', '-', '*', '*', '-' ])\n",
        "np.fill_diagonal(np.fliplr(mutante), ['*', '*', '-', '*', '*', '-' ])\n",
        "mutante[0] = ['*', '-', '*', '*', '*', '-' ]\n",
        "mutante[N-1] = ['*', '*', '-', '*', '*', '-' ]\n",
        "mutante[:, N-1] = ['-', '-', '-', '*', '*', '-' ]\n",
        "print(mutante, type(mutante))\n",
        "#patterns: 7 positivios en diagonales, filas: 5, cols: 4. Total 16 de largo 2\n",
        "# Total 3 de largo 3"
      ],
      "execution_count": 10,
      "outputs": [
        {
          "output_type": "stream",
          "text": [
            "[['*' '-' '*' '*' '*' '-']\n",
            " ['-' '*' '-' '-' '*' '-']\n",
            " ['-' '-' '-' '-' '-' '-']\n",
            " ['-' '-' '*' '*' '-' '*']\n",
            " ['-' '*' '-' '-' '*' '*']\n",
            " ['*' '*' '-' '*' '*' '-']] <class 'numpy.ndarray'>\n"
          ],
          "name": "stdout"
        }
      ]
    },
    {
      "cell_type": "code",
      "metadata": {
        "execution": {
          "iopub.status.busy": "2020-04-29T18:31:38.465Z",
          "iopub.execute_input": "2020-04-29T18:31:38.470Z",
          "iopub.status.idle": "2020-04-29T18:31:38.478Z",
          "shell.execute_reply": "2020-04-29T18:31:38.566Z"
        },
        "id": "S-QrfYiiuR-v",
        "colab_type": "code",
        "outputId": "e5beed19-027f-4500-a095-1e26521e7903",
        "colab": {
          "base_uri": "https://localhost:8080/",
          "height": 51
        }
      },
      "source": [
        "print(np.shape(mutante1))\n",
        "print(len(np.diagonal(mutante1))-2)"
      ],
      "execution_count": 11,
      "outputs": [
        {
          "output_type": "stream",
          "text": [
            "(6, 6)\n",
            "4\n"
          ],
          "name": "stdout"
        }
      ]
    },
    {
      "cell_type": "code",
      "metadata": {
        "execution": {
          "iopub.status.busy": "2020-04-29T18:31:38.484Z",
          "iopub.execute_input": "2020-04-29T18:31:38.488Z",
          "iopub.status.idle": "2020-04-29T18:31:38.494Z",
          "shell.execute_reply": "2020-04-29T18:31:38.569Z"
        },
        "id": "o_qcABGPuR-y",
        "colab_type": "code",
        "colab": {}
      },
      "source": [
        "def mutant_count(adn_matrix, adn_base=['A', 'C', 'G', 'T'], adn_seq_length=4):\n",
        "    N = len(adn_matrix)\n",
        "    # ACGT_count = np.count_nonzero(np.logical_or(np_adn == 'A', np_adn == 'T')) +  np.count_nonzero(np.logical_or(np_adn ==  'C', np_adn ==  'G'))\n",
        "\n",
        "    # if (ACGT_count != N*N):\n",
        "    #     return None\n",
        "    unique = np.unique(adn_matrix)\n",
        "    if not(np.isin(unique, adn_base).all()):\n",
        "      print(f\"notisin:{unique, adn_base}\")\n",
        "      return None\n",
        "\n",
        "    match_count = 0\n",
        "\n",
        "    # l: letter, g: group\n",
        "    # main diagonals\n",
        "    match_count += np.sum(\n",
        "        [len(list(g))  >= adn_seq_length \n",
        "        for l, g in it.groupby(np.diagonal(adn_matrix,offset=0)) \n",
        "        if l in adn_base])\n",
        "\n",
        "    match_count += np.sum(\n",
        "        [len(list(g))  >= adn_seq_length \n",
        "        for l, g in it.groupby(np.fliplr(adn_matrix).diagonal(offset=0)) \n",
        "        if l in adn_base])\n",
        "\n",
        "    # Diagonals without main diagonals\n",
        "    max_diag_size = range(1, N-adn_seq_length+1 )\n",
        "    for i in range(1, N-adn_seq_length+1): \n",
        "        # l: letter, g: group\n",
        "        # left to right upper diagonals\n",
        "        match_count += np.sum(\n",
        "            [len(list(g))  >= adn_seq_length \n",
        "            for l, g in it.groupby(np.diagonal(adn_matrix,offset=i)) \n",
        "            if l in adn_base])\n",
        "        \n",
        "        # # left to right lower diagonals\n",
        "        match_count += np.sum(\n",
        "            [len(list(g))  >= adn_seq_length \n",
        "            for l, g in it.groupby(np.diagonal(adn_matrix,offset=-i)) \n",
        "            if l in adn_base])\n",
        "\n",
        "        #right to left upper diagonals\n",
        "        match_count += np.sum(\n",
        "            [len(list(g))  >= adn_seq_length \n",
        "            for l, g in it.groupby(np.fliplr(adn_matrix).diagonal(offset=i)) \n",
        "            if l in adn_base])\n",
        "\n",
        "        # #right to left lower diagonals\n",
        "        match_count += np.sum(\n",
        "            [len(list(g))  >= adn_seq_length \n",
        "            for l, g in it.groupby(np.fliplr(adn_matrix).diagonal(offset=-i)) \n",
        "            if l in adn_base])\n",
        "        \n",
        "    # Remaining rows and columns\n",
        "    for i in range(1, N+1):\n",
        "        match_count += np.sum(\n",
        "            [len(list(g))  >= adn_seq_length \n",
        "            for l, g in it.groupby(adn_matrix[i-1,:]) \n",
        "            if l in adn_base])\n",
        "\n",
        "        match_count += np.sum(\n",
        "            [len(list(g))  >= adn_seq_length \n",
        "            for l, g in it.groupby(adn_matrix[:,i-1]) \n",
        "            if l in adn_base])\n",
        "        \n",
        "    return int(match_count)\n"
      ],
      "execution_count": 0,
      "outputs": []
    },
    {
      "cell_type": "markdown",
      "metadata": {
        "id": "FXtR7S-zuR-1",
        "colab_type": "text"
      },
      "source": [
        "** #################### START OF UNIT TESTS #################### **\n"
      ]
    },
    {
      "cell_type": "code",
      "metadata": {
        "execution": {
          "iopub.status.busy": "2020-04-29T18:31:38.499Z",
          "iopub.execute_input": "2020-04-29T18:31:38.503Z",
          "iopub.status.idle": "2020-04-29T18:31:38.526Z",
          "shell.execute_reply": "2020-04-29T18:31:38.571Z"
        },
        "id": "QhJlrrKuuR-1",
        "colab_type": "code",
        "outputId": "5eb177cc-3078-437e-f7f8-e3eccaccf813",
        "colab": {
          "base_uri": "https://localhost:8080/",
          "height": 119
        }
      },
      "source": [
        "import unittest\n",
        "mutante1 = np.array(\n",
        "                [['A', 'T', 'G', 'C', 'G', 'A'], \n",
        "                 ['C', 'A', 'G', 'T', 'G', 'C'],\n",
        "                 ['T', 'T', 'A', 'T', 'G', 'T'], \n",
        "                 ['A', 'G', 'A', 'A', 'G', 'C'],\n",
        "                 ['C', 'C', 'C', 'C', 'T', 'A'],\n",
        "                 ['T', 'C', 'A', 'C', 'T', 'G']])\n",
        "mutante2 = np.array(\n",
        "                [['T', 'T', 'G', 'C', 'G', 'A'], \n",
        "                 ['C', 'A', 'G', 'T', 'G', 'C'],\n",
        "                 ['T', 'T', 'A', 'T', 'G', 'T'], \n",
        "                 ['A', 'G', 'A', 'A', 'G', 'C'],\n",
        "                 ['C', 'C', 'C', 'C', 'A', 'A'],\n",
        "                 ['T', 'C', 'A', 'C', 'T', 'G']])\n",
        "N = 6\n",
        "sequence_length = 2\n",
        "alpha_num = list('-')\n",
        "adn_base_test = ['*']\n",
        "\n",
        "mutante3 = np.random.choice(alpha_num, size=[N, N])\n",
        "np.fill_diagonal(mutante3, ['*', '*', '-', '*', '*', '-' ])\n",
        "np.fill_diagonal(np.fliplr(mutante3), ['*', '*', '-', '*', '*', '-' ])\n",
        "mutante3[0] = ['*', '-', '*', '*', '*', '-' ]\n",
        "mutante3[N-1] = ['*', '*', '-', '*', '*', '-' ]\n",
        "mutante3[:, N-1] = ['-', '-', '-', '*', '*', '-' ]\n",
        "#patterns: 7 positivios en diagonales, filas: 5, cols: 4. Total 16 de largo 2\n",
        "# Total 3 de largo 3\n",
        "\n",
        "\n",
        "mutant_function = mutant_count  \n",
        "\n",
        "class TestMethods(unittest.TestCase):\n",
        "    \n",
        "    ##########\n",
        "    # Unit tests\n",
        "    ##########\n",
        "    \n",
        "    def test_mutant_count_asterisk_36(self):\n",
        "        self.assertTrue(\n",
        "            mutant_function(mutante3, adn_base=['*', '-'], adn_seq_length=2) == 36 \n",
        "        )\n",
        "    \n",
        "    def test_mutant_count_asterisk_11(self):\n",
        "        self.assertTrue(\n",
        "            mutant_function(mutante3, adn_base=['*', '-'], adn_seq_length=3) == 11 \n",
        "        )\n",
        "        \n",
        "   \n",
        "suite = unittest.TestLoader().loadTestsFromModule(TestMethods())\n",
        "unittest.TextTestRunner().run(suite)"
      ],
      "execution_count": 13,
      "outputs": [
        {
          "output_type": "stream",
          "text": [
            "..\n",
            "----------------------------------------------------------------------\n",
            "Ran 2 tests in 0.003s\n",
            "\n",
            "OK\n"
          ],
          "name": "stderr"
        },
        {
          "output_type": "execute_result",
          "data": {
            "text/plain": [
              "<unittest.runner.TextTestResult run=2 errors=0 failures=0>"
            ]
          },
          "metadata": {
            "tags": []
          },
          "execution_count": 13
        }
      ]
    },
    {
      "cell_type": "code",
      "metadata": {
        "id": "Zg8Zj6lBuR-4",
        "colab_type": "code",
        "colab": {
          "base_uri": "https://localhost:8080/",
          "height": 119
        },
        "outputId": "621db51e-50cb-433c-e009-2a87bd623079"
      },
      "source": [
        "import unittest\n",
        "mutante1 = np.array(\n",
        "                [['A', 'T', 'G', 'C', 'G', 'A'], \n",
        "                 ['C', 'A', 'G', 'T', 'G', 'C'],\n",
        "                 ['T', 'T', 'A', 'T', 'G', 'T'], \n",
        "                 ['A', 'G', 'A', 'A', 'G', 'C'],\n",
        "                 ['C', 'C', 'C', 'C', 'T', 'A'],\n",
        "                 ['T', 'C', 'A', 'C', 'T', 'G']])\n",
        "mutante2 = np.array(\n",
        "                [['T', 'T', 'G', 'C', 'G', 'A'], \n",
        "                 ['C', 'A', 'G', 'T', 'G', 'C'],\n",
        "                 ['T', 'T', 'A', 'T', 'G', 'T'], \n",
        "                 ['A', 'G', 'A', 'A', 'G', 'C'],\n",
        "                 ['C', 'C', 'C', 'C', 'A', 'A'],\n",
        "                 ['T', 'C', 'A', 'C', 'T', 'G']])\n",
        "mutante3 = np.array(\n",
        "                [['T', 'T', 'G', 'T', 'G', 'A'], \n",
        "                 ['C', 'A', 'T', 'T', 'G', 'C'],\n",
        "                 ['T', 'T', 'A', 'T', 'G', 'T'], \n",
        "                 ['T', 'G', 'A', 'A', 'G', 'C'],\n",
        "                 ['C', 'C', 'C', 'C', 'A', 'A'],\n",
        "                 ['T', 'C', 'A', 'C', 'T', 'G']])\n",
        "\n",
        "mutante4 = np.random.choice(['A'], size=[6, 6])\n",
        "\n",
        "\n",
        "mutant_function = mutant_count  \n",
        "\n",
        "class TestMethods(unittest.TestCase):\n",
        "    \n",
        "    ##########\n",
        "    # Unit tests\n",
        "    ##########\n",
        "        \n",
        "    def test_mutant_count_dna_3(self):\n",
        "        self.assertTrue(\n",
        "            mutant_function(mutante1) == 3 \n",
        "        )\n",
        "     \n",
        "    def test_mutant_count_dna_3_bis(self):\n",
        "        self.assertTrue(\n",
        "            mutant_function(mutante2) == 3 \n",
        "        )\n",
        "\n",
        "    def test_mutant_count_dna_18(self):\n",
        "        self.assertTrue(\n",
        "            mutant_function(mutante3, adn_seq_length=2) == 18 \n",
        "        )\n",
        "\n",
        "    def test_mutant_count_dna_6(self):\n",
        "        self.assertTrue(\n",
        "            mutant_function(mutante3, adn_seq_length=3) == 6 \n",
        "        )\n",
        "\n",
        "    def test_mutant_count_dna_4(self):\n",
        "        self.assertTrue(\n",
        "            mutant_function(mutante3, adn_seq_length=4) == 4 \n",
        "        )    \n",
        "\n",
        "    def test_mutant_count_dna_22(self):\n",
        "        self.assertTrue(\n",
        "            mutant_function(mutante4, adn_base=['A']) == 22 \n",
        "        )\n",
        "suite = unittest.TestLoader().loadTestsFromModule(TestMethods())\n",
        "unittest.TextTestRunner().run(suite)"
      ],
      "execution_count": 14,
      "outputs": [
        {
          "output_type": "stream",
          "text": [
            "......\n",
            "----------------------------------------------------------------------\n",
            "Ran 6 tests in 0.012s\n",
            "\n",
            "OK\n"
          ],
          "name": "stderr"
        },
        {
          "output_type": "execute_result",
          "data": {
            "text/plain": [
              "<unittest.runner.TextTestResult run=6 errors=0 failures=0>"
            ]
          },
          "metadata": {
            "tags": []
          },
          "execution_count": 14
        }
      ]
    }
  ]
}