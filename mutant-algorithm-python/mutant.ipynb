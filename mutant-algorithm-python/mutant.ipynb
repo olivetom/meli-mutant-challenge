{
  "cells": [
    {
      "cell_type": "code",
      "source": [
        "import numpy as np\n",
        "import itertools as it\n",
        "import unittest"
      ],
      "outputs": [],
      "execution_count": 1,
      "metadata": {
        "execution": {
          "iopub.status.busy": "2020-04-29T18:31:38.265Z",
          "iopub.execute_input": "2020-04-29T18:31:38.269Z",
          "iopub.status.idle": "2020-04-29T18:31:38.348Z",
          "shell.execute_reply": "2020-04-29T18:31:38.546Z"
        }
      }
    },
    {
      "cell_type": "code",
      "source": [
        "import string\n",
        "dna1 = [\"ATGCGA\",\"CAGTGC\",\"TTATGT\",\"AGAAGG\",\"CCCCTA\",\"TCACTG\"]"
      ],
      "outputs": [],
      "execution_count": 2,
      "metadata": {
        "execution": {
          "iopub.status.busy": "2020-04-29T18:31:38.355Z",
          "iopub.execute_input": "2020-04-29T18:31:38.360Z",
          "iopub.status.idle": "2020-04-29T18:31:38.367Z",
          "shell.execute_reply": "2020-04-29T18:31:38.550Z"
        }
      }
    },
    {
      "cell_type": "code",
      "source": [
        "N = 6\n",
        "adn_base = list(['A', 'C', 'G', 'T'])\n",
        "adn_seq_length = len(adn_base)\n",
        "np_adn = np.random.choice(adn_base, size=[N, N])\n",
        "print(f\"ADN ALEATORIO:\\n{np_adn}\")\n",
        "c = np.count_nonzero(np.logical_or(np_adn == 'A', np_adn == 'T')) + np.count_nonzero(np.logical_or(np_adn ==  'C', np_adn ==  'G'))\n",
        "c"
      ],
      "outputs": [
        {
          "output_type": "stream",
          "name": "stdout",
          "text": [
            "ADN ALEATORIO:\n",
            "[['T' 'T' 'C' 'T' 'G' 'T']\n",
            " ['G' 'T' 'C' 'T' 'C' 'T']\n",
            " ['T' 'A' 'C' 'A' 'T' 'T']\n",
            " ['C' 'A' 'C' 'A' 'T' 'G']\n",
            " ['A' 'G' 'A' 'T' 'A' 'G']\n",
            " ['C' 'C' 'A' 'T' 'G' 'C']]\n"
          ]
        },
        {
          "output_type": "execute_result",
          "execution_count": 3,
          "data": {
            "text/plain": [
              "36"
            ]
          },
          "metadata": {}
        }
      ],
      "execution_count": 3,
      "metadata": {
        "execution": {
          "iopub.status.busy": "2020-04-29T18:31:38.374Z",
          "iopub.execute_input": "2020-04-29T18:31:38.380Z",
          "iopub.status.idle": "2020-04-29T18:31:38.394Z",
          "shell.execute_reply": "2020-04-29T18:31:38.553Z"
        }
      }
    },
    {
      "cell_type": "code",
      "source": [
        "mutante1 = np.array(\n",
        "                [['A', 'T', 'G', 'C', 'G', 'A'], \n",
        "                 ['C', 'A', 'G', 'T', 'G', 'C'],\n",
        "                 ['T', 'T', 'A', 'T', 'G', 'T'], \n",
        "                 ['A', 'G', 'A', 'A', 'G', 'G'],\n",
        "                 ['C', 'C', 'C', 'C', 'T', 'A'],\n",
        "                 ['T', 'C', 'A', 'C', 'T', 'G']])"
      ],
      "outputs": [],
      "execution_count": 4,
      "metadata": {
        "execution": {
          "iopub.status.busy": "2020-04-29T18:31:38.402Z",
          "iopub.execute_input": "2020-04-29T18:31:38.407Z",
          "iopub.status.idle": "2020-04-29T18:31:38.413Z",
          "shell.execute_reply": "2020-04-29T18:31:38.557Z"
        }
      }
    },
    {
      "cell_type": "code",
      "source": [
        "mutante2 = np.array([['T', 'T', 'G', 'C', 'G', 'A'], \n",
        "                 ['C', 'A', 'G', 'T', 'G', 'C'],\n",
        "                 ['T', 'T', 'A', 'T', 'G', 'T'], \n",
        "                 ['A', 'G', 'A', 'A', 'G', 'G'],\n",
        "                 ['C', 'C', 'C', 'C', 'A', 'A'],\n",
        "                 ['T', 'C', 'A', 'C', 'T', 'G']])"
      ],
      "outputs": [],
      "execution_count": 5,
      "metadata": {
        "execution": {
          "iopub.status.busy": "2020-04-29T18:31:38.421Z",
          "iopub.execute_input": "2020-04-29T18:31:38.426Z",
          "iopub.status.idle": "2020-04-29T18:31:38.434Z",
          "shell.execute_reply": "2020-04-29T18:31:38.559Z"
        }
      }
    },
    {
      "cell_type": "code",
      "source": [
        "alpha_num = list('-')\n",
        "adn_base_test = ['*']\n",
        "mutante = np.random.choice(alpha_num, size=[N, N])\n",
        "np.fill_diagonal(mutante, ['*', '*', '-', '*', '*', '-' ])\n",
        "np.fill_diagonal(np.fliplr(mutante), ['*', '*', '-', '*', '*', '-' ])\n",
        "mutante[0] = ['*', '-', '*', '*', '*', '-' ]\n",
        "mutante[N-1] = ['*', '*', '-', '*', '*', '-' ]\n",
        "mutante[:, N-1] = ['-', '-', '-', '*', '*', '-' ]\n",
        "print(mutante, type(mutante))\n",
        "#patterns: 7 positivios en diagonales, filas: 5, cols: 4. Total 16 de largo 2\n",
        "# Total 3 de largo 3"
      ],
      "outputs": [
        {
          "output_type": "stream",
          "name": "stdout",
          "text": [
            "[['*' '-' '*' '*' '*' '-']\n",
            " ['-' '*' '-' '-' '*' '-']\n",
            " ['-' '-' '-' '-' '-' '-']\n",
            " ['-' '-' '*' '*' '-' '*']\n",
            " ['-' '*' '-' '-' '*' '*']\n",
            " ['*' '*' '-' '*' '*' '-']] <class 'numpy.ndarray'>\n"
          ]
        }
      ],
      "execution_count": 6,
      "metadata": {
        "execution": {
          "iopub.status.busy": "2020-04-29T18:31:38.441Z",
          "iopub.execute_input": "2020-04-29T18:31:38.447Z",
          "iopub.status.idle": "2020-04-29T18:31:38.459Z",
          "shell.execute_reply": "2020-04-29T18:31:38.563Z"
        }
      }
    },
    {
      "cell_type": "code",
      "source": [
        "print(np.shape(mutante1))\n",
        "print(len(np.diagonal(mutante1))-2)"
      ],
      "outputs": [
        {
          "output_type": "stream",
          "name": "stdout",
          "text": [
            "(6, 6)\n",
            "4\n"
          ]
        }
      ],
      "execution_count": 7,
      "metadata": {
        "execution": {
          "iopub.status.busy": "2020-04-29T18:31:38.465Z",
          "iopub.execute_input": "2020-04-29T18:31:38.470Z",
          "iopub.status.idle": "2020-04-29T18:31:38.478Z",
          "shell.execute_reply": "2020-04-29T18:31:38.566Z"
        }
      }
    },
    {
      "cell_type": "code",
      "source": [
        "def mutant_count(adn_matrix, adn_base=['A', 'C', 'G', 'T'], adn_seq_length=4):\n",
        "    N = len(adn_matrix)\n",
        "    ACGT_count = np.count_nonzero(np.logical_or(np_adn == 'A', np_adn == 'T')) +  np.count_nonzero(np.logical_or(np_adn ==  'C', np_adn ==  'G'))\n",
        "\n",
        "    if (ACGT_count != N*N):\n",
        "        return None\n",
        "    \n",
        "    match_count = 0\n",
        "\n",
        "    # l: letter, g: group\n",
        "    # main diagonals\n",
        "    match_count += np.sum(\n",
        "        [len(list(g))  >= adn_seq_length \n",
        "        for l, g in it.groupby(np.diagonal(adn_matrix,offset=0)) \n",
        "        if l in adn_base])\n",
        "\n",
        "    match_count += np.sum(\n",
        "        [len(list(g))  >= adn_seq_length \n",
        "        for l, g in it.groupby(np.fliplr(adn_matrix).diagonal(offset=0)) \n",
        "        if l in adn_base])\n",
        "\n",
        "    # Diagonals without main diagonals\n",
        "    max_diag_size = range(1, N-adn_seq_length+1 )\n",
        "    for i in range(1, N-adn_seq_length+1): \n",
        "        # l: letter, g: group\n",
        "        # left to right upper diagonals\n",
        "        match_count += np.sum(\n",
        "            [len(list(g))  >= adn_seq_length \n",
        "            for l, g in it.groupby(np.diagonal(adn_matrix,offset=i)) \n",
        "            if l in adn_base])\n",
        "        \n",
        "        # # left to right lower diagonals\n",
        "        match_count += np.sum(\n",
        "            [len(list(g))  >= adn_seq_length \n",
        "            for l, g in it.groupby(np.diagonal(adn_matrix,offset=-i)) \n",
        "            if l in adn_base])\n",
        "\n",
        "        #right to left upper diagonals\n",
        "        match_count += np.sum(\n",
        "            [len(list(g))  >= adn_seq_length \n",
        "            for l, g in it.groupby(np.fliplr(adn_matrix).diagonal(offset=i)) \n",
        "            if l in adn_base])\n",
        "\n",
        "        # #right to left lower diagonals\n",
        "        match_count += np.sum(\n",
        "            [len(list(g))  >= adn_seq_length \n",
        "            for l, g in it.groupby(np.fliplr(adn_matrix).diagonal(offset=-i)) \n",
        "            if l in adn_base])\n",
        "        \n",
        "    # Remaining rows and columns\n",
        "    for i in range(1, N+1):\n",
        "        match_count += np.sum(\n",
        "            [len(list(g))  >= adn_seq_length \n",
        "            for l, g in it.groupby(adn_matrix[i-1,:]) \n",
        "            if l in adn_base])\n",
        "\n",
        "        match_count += np.sum(\n",
        "            [len(list(g))  >= adn_seq_length \n",
        "            for l, g in it.groupby(adn_matrix[:,i-1]) \n",
        "            if l in adn_base])\n",
        "        \n",
        "    return int(match_count)\n"
      ],
      "outputs": [],
      "execution_count": 8,
      "metadata": {
        "execution": {
          "iopub.status.busy": "2020-04-29T18:31:38.484Z",
          "iopub.execute_input": "2020-04-29T18:31:38.488Z",
          "iopub.status.idle": "2020-04-29T18:31:38.494Z",
          "shell.execute_reply": "2020-04-29T18:31:38.569Z"
        }
      }
    },
    {
      "cell_type": "markdown",
      "source": [
        "** #################### START OF UNIT TESTS #################### **\n"
      ],
      "metadata": {}
    },
    {
      "cell_type": "code",
      "source": [
        "import unittest\n",
        "N = 6\n",
        "sequence_length = 2\n",
        "alpha_num = list('-')\n",
        "adn_base_test = ['*']\n",
        "\n",
        "mutante3 = np.random.choice(alpha_num, size=[N, N])\n",
        "np.fill_diagonal(mutante3, ['*', '*', '-', '*', '*', '-' ])\n",
        "np.fill_diagonal(np.fliplr(mutante3), ['*', '*', '-', '*', '*', '-' ])\n",
        "mutante3[0] = ['*', '-', '*', '*', '*', '-' ]\n",
        "mutante3[N-1] = ['*', '*', '-', '*', '*', '-' ]\n",
        "mutante3[:, N-1] = ['-', '-', '-', '*', '*', '-' ]\n",
        "#patterns: 7 positivios en diagonales, filas: 5, cols: 4. Total 16 de largo 2\n",
        "# Total 3 de largo 3\n",
        "\n",
        "mutante4 = np.random.choice(list('*'), size=[N, N])\n",
        "\n",
        "adn_random = np.random.choice(alpha_num, size=[N, N])\n",
        "\n",
        "mutant_function = mutant_count  \n",
        "\n",
        "class TestMethods(unittest.TestCase):\n",
        "    \n",
        "    ##########\n",
        "    # Unit tests\n",
        "    ##########\n",
        "    \n",
        "    def test_mutant_count_asterisk_16(self):\n",
        "        self.assertTrue(\n",
        "            mutant_function(mutante3, adn_base=['*'], adn_seq_length=2) == 16 \n",
        "        )\n",
        "    \n",
        "    def test_mutant_count_asterisk_3(self):\n",
        "        self.assertTrue(\n",
        "            mutant_function(mutante3, adn_base=['*'], adn_seq_length=3) == 3 \n",
        "        )\n",
        "        \n",
        "    def test_mutant_count_dna_3(self):\n",
        "        self.assertTrue(\n",
        "            mutant_function(mutante1) == 3 \n",
        "        )\n",
        "     \n",
        "    def test_mutant_count_dna_3(self):\n",
        "        self.assertTrue(\n",
        "            mutant_function(mutante2) == 3 \n",
        "        )\n",
        "\n",
        "suite = unittest.TestLoader().loadTestsFromModule(TestMethods())\n",
        "unittest.TextTestRunner().run(suite)"
      ],
      "outputs": [
        {
          "output_type": "stream",
          "name": "stderr",
          "text": [
            "...\n",
            "----------------------------------------------------------------------\n",
            "Ran 3 tests in 0.005s\n",
            "\n",
            "OK\n"
          ]
        },
        {
          "output_type": "execute_result",
          "execution_count": 9,
          "data": {
            "text/plain": [
              "<unittest.runner.TextTestResult run=3 errors=0 failures=0>"
            ]
          },
          "metadata": {}
        }
      ],
      "execution_count": 9,
      "metadata": {
        "execution": {
          "iopub.status.busy": "2020-04-29T18:31:38.499Z",
          "iopub.execute_input": "2020-04-29T18:31:38.503Z",
          "iopub.status.idle": "2020-04-29T18:31:38.526Z",
          "shell.execute_reply": "2020-04-29T18:31:38.571Z"
        }
      }
    },
    {
      "cell_type": "code",
      "source": [],
      "outputs": [],
      "execution_count": null,
      "metadata": {}
    }
  ],
  "metadata": {
    "language_info": {
      "name": "python",
      "version": "3.8.2",
      "mimetype": "text/x-python",
      "codemirror_mode": {
        "name": "ipython",
        "version": 3
      },
      "pygments_lexer": "ipython3",
      "nbconvert_exporter": "python",
      "file_extension": ".py"
    },
    "orig_nbformat": 2,
    "kernelspec": {
      "name": "python37564bitdeeplearningv2pytorchpipenv228bb8fd2b7044fc95b1a54da7d30e8a",
      "display_name": "Python 3.7.5 64-bit ('deep-learning-v2-pytorch': pipenv)"
    },
    "nteract": {
      "version": "0.23.1"
    }
  },
  "nbformat": 4,
  "nbformat_minor": 2
}